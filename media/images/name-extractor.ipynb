{
 "cells": [
  {
   "cell_type": "code",
   "execution_count": 1,
   "metadata": {},
   "outputs": [],
   "source": [
    "import os\n",
    "\n",
    "def get_file_names(directory):\n",
    "    file_list = []\n",
    "    for filename in os.listdir(directory):\n",
    "        if os.path.isfile(os.path.join(directory, filename)):\n",
    "            last_word = filename.rsplit(' ', 1)[-1]\n",
    "            file_list.append(last_word)\n",
    "    return file_list"
   ]
  },
  {
   "cell_type": "code",
   "execution_count": 6,
   "metadata": {},
   "outputs": [],
   "source": [
    "path = os.getcwd()"
   ]
  },
  {
   "cell_type": "code",
   "execution_count": 8,
   "metadata": {},
   "outputs": [],
   "source": [
    "names = get_file_names(path)"
   ]
  },
  {
   "cell_type": "code",
   "execution_count": 9,
   "metadata": {},
   "outputs": [],
   "source": [
    "def append_prefix(strings):\n",
    "    prefix = \"media/images/\"\n",
    "    return [prefix + s for s in strings]"
   ]
  },
  {
   "cell_type": "code",
   "execution_count": 10,
   "metadata": {},
   "outputs": [
    {
     "data": {
      "text/plain": [
       "['media/images/11.png',\n",
       " 'media/images/20220824_051249.jpg',\n",
       " 'media/images/20220911_141645.jpg',\n",
       " 'media/images/20220911_152431.jpg',\n",
       " 'media/images/324944779_605363764732418_2580431472956264518_n.jpg',\n",
       " 'media/images/IMG_20211212_085005_336.jpg',\n",
       " 'media/images/IMG_20211212_085005_352.jpg',\n",
       " 'media/images/IMG_20220319_094934_952.jpg',\n",
       " 'media/images/IMG_20220416_202753_163.jpg',\n",
       " 'media/images/IMG_20220501_093444_258.jpg',\n",
       " 'media/images/IMG_20220825_154646_386.jpg',\n",
       " 'media/images/IMG_20220913_143039_561.jpg',\n",
       " 'media/images/IMG_20230105_180223_804.jpg',\n",
       " 'media/images/IMG_20230107_165905_249.jpg',\n",
       " 'media/images/IMG_20230604_095215_094.jpg',\n",
       " 'media/images/IMG_20230702_184742.jpg',\n",
       " 'media/images/IMG_20230729_103021756~3.jpg',\n",
       " 'media/images/IMG_2486.jpg',\n",
       " 'media/images/IMG_2588.jpg',\n",
       " 'media/images/IMG_3192.JPEG',\n",
       " 'media/images/name-extractor.ipynb',\n",
       " 'media/images/PXL_20221218_160945726.jpg',\n",
       " 'media/images/PXL_20230206_150514299.jpg',\n",
       " 'media/images/PXL_20230325_200736036.jpg',\n",
       " 'media/images/PXL_20230330_015319549.jpg',\n",
       " 'media/images/PXL_20230402_162137691.jpg',\n",
       " 'media/images/PXL_20230518_142802053.jpg',\n",
       " 'media/images/PXL_20230617_192206494.jpg',\n",
       " 'media/images/PXL_20230714_191923187.jpg',\n",
       " 'media/images/PXL_20230718_170541088.jpg',\n",
       " 'media/images/PXL_20230731_184028736.jpg',\n",
       " 'media/images/090315-edited.jpg',\n",
       " 'media/images/Screenshot_20220624-233708_Bumble.jpg',\n",
       " 'media/images/Screenshot_20220624-233727_Bumble.jpg',\n",
       " 'media/images/Screenshot_20230319-110128.png',\n",
       " 'media/images/stevejoshuatree.jpg']"
      ]
     },
     "execution_count": 10,
     "metadata": {},
     "output_type": "execute_result"
    }
   ],
   "source": [
    "append_prefix(names)"
   ]
  },
  {
   "cell_type": "code",
   "execution_count": 13,
   "metadata": {},
   "outputs": [],
   "source": [
    "newpath = 'c:\\\\Users\\\\sbogu\\\\Documents\\\\Repos\\\\bogoodski-ai\\\\media\\\\readme'"
   ]
  },
  {
   "cell_type": "code",
   "execution_count": 14,
   "metadata": {},
   "outputs": [],
   "source": [
    "readmeimages = get_file_names(newpath)"
   ]
  },
  {
   "cell_type": "code",
   "execution_count": 15,
   "metadata": {},
   "outputs": [
    {
     "data": {
      "text/plain": [
       "['canva.jpg',\n",
       " 'carousel-prompt.jpg',\n",
       " 'chatgpt-style-objective.jpg',\n",
       " 'day0july312023.jpg',\n",
       " 'dynamic-layout.gif',\n",
       " 'dynamic-resize-gif.gif',\n",
       " 'dynamic-resize.mp4',\n",
       " 'dynamically-resize.jpg',\n",
       " 'font-awesome.jpg',\n",
       " 'initial-prompt.jpg',\n",
       " 'initial-scaffold.jpg',\n",
       " 'modal-css.jpg',\n",
       " 'modal-html.jpg',\n",
       " 'modal-js.jpg',\n",
       " 'modal-prompt.jpg',\n",
       " 'server.jpg',\n",
       " 'update-carousel-prompt.jpg']"
      ]
     },
     "execution_count": 15,
     "metadata": {},
     "output_type": "execute_result"
    }
   ],
   "source": [
    "readmeimages\n"
   ]
  },
  {
   "cell_type": "code",
   "execution_count": null,
   "metadata": {},
   "outputs": [],
   "source": []
  }
 ],
 "metadata": {
  "kernelspec": {
   "display_name": "Python 3",
   "language": "python",
   "name": "python3"
  },
  "language_info": {
   "codemirror_mode": {
    "name": "ipython",
    "version": 3
   },
   "file_extension": ".py",
   "mimetype": "text/x-python",
   "name": "python",
   "nbconvert_exporter": "python",
   "pygments_lexer": "ipython3",
   "version": "3.10.4"
  },
  "orig_nbformat": 4
 },
 "nbformat": 4,
 "nbformat_minor": 2
}
